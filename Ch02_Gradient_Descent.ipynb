{
  "nbformat": 4,
  "nbformat_minor": 0,
  "metadata": {
    "colab": {
      "provenance": [],
      "authorship_tag": "ABX9TyNTRdH22ZPSST5gbuQVwg5b",
      "include_colab_link": true
    },
    "kernelspec": {
      "name": "python3",
      "display_name": "Python 3"
    },
    "language_info": {
      "name": "python"
    }
  },
  "cells": [
    {
      "cell_type": "markdown",
      "metadata": {
        "id": "view-in-github",
        "colab_type": "text"
      },
      "source": [
        "<a href=\"https://colab.research.google.com/github/iaagulo/Machine-Learning-Basics/blob/main/Ch02_Gradient_Descent.ipynb\" target=\"_parent\"><img src=\"https://colab.research.google.com/assets/colab-badge.svg\" alt=\"Open In Colab\"/></a>"
      ]
    },
    {
      "cell_type": "markdown",
      "source": [
        "#2.0 Gradient Descent<br>\n",
        "First, let's upload the modules that we need."
      ],
      "metadata": {
        "id": "zqiT3-eidKXg"
      }
    },
    {
      "cell_type": "code",
      "source": [
        "import numpy as np\n",
        "import matplotlib.pyplot as plt\n",
        "from matplotlib.animation import FuncAnimation "
      ],
      "metadata": {
        "id": "fpo8W49i9MkB"
      },
      "execution_count": 227,
      "outputs": []
    },
    {
      "cell_type": "markdown",
      "source": [
        "Consider this relation between two variables, $x$ and $y$."
      ],
      "metadata": {
        "id": "kj3aEi2kc7QR"
      }
    },
    {
      "cell_type": "code",
      "execution_count": 228,
      "metadata": {
        "colab": {
          "base_uri": "https://localhost:8080/",
          "height": 279
        },
        "id": "NnlmgSGrdBFD",
        "outputId": "7e6200d0-3ebd-473d-ff8e-249de4368108"
      },
      "outputs": [
        {
          "output_type": "display_data",
          "data": {
            "text/plain": [
              "<Figure size 432x288 with 1 Axes>"
            ],
            "image/png": "[encoded data removed]"
          },
          "metadata": {
            "needs_background": "light"
          }
        }
      ],
      "source": [
        "m = 2\n",
        "b = 0.5\n",
        "\n",
        "x = np.linspace(0,5,100)\n",
        "y = addrandomfluctuations(x,m,b,1)\n",
        "plt.plot(x,y,'bx')\n",
        "plt.xlabel('x')\n",
        "plt.ylabel('y')\n",
        "plt.grid()"
      ]
    },
    {
      "cell_type": "markdown",
      "source": [
        "*Figure 2.1. A data set that forms a straight line.*"
      ],
      "metadata": {
        "id": "_hHHQ9z7WM3l"
      }
    },
    {
      "cell_type": "markdown",
      "source": [
        "##2.1 The Cost Function<br>\n",
        "The cost function describes is a measure of the error between the expected value and the measured value. The higher the error, the more it \"costs\" to correct the error. Thus, the goal is to minimize the error, and therefore, the cost function. <br>\n",
        "Consider the linear given data set plotted against the best fit line. For this example, the cost function, $J(\\theta_0,\\theta_1)$, is given by the expression<br>\n",
        "$J(\\theta_0,\\theta_1)=\\frac{1}{2n}\\sum_{i=1}^{n} [(\\theta_0 + \\theta_1 x_i)-y_i]^2$<br>\n",
        "where $(\\theta_0 + \\theta_1 x_i)$ is the equation of the best fit line described by its slope, $\\theta_1$, and y-intercept, $\\theta_0$, and  is the measured value at the $i^{th}$ data point. Thus, the term in the square brackets $(\\theta_0 + \\theta_1 x_i)-y_i$ corresponds to the difference between the best fit line and the measured values. When the cost function is minimized, we have the optimum value for the slope, $\\theta_1$, and y-intercept, $\\theta_0$, and the term  is small as it could be for each data point. In Figure 2.2, the term  is the value between each of the blue crosses and the value of the best fit line corresponding to $x_i$."
      ],
      "metadata": {
        "id": "RYrlqwXuWWdW"
      }
    },
    {
      "cell_type": "code",
      "source": [
        "plt.plot(x,y,'bx', markersize=10,linewidth=2)\n",
        "ylr = addrandomfluctuations(x,m,b,0)\n",
        "plt.plot(x,ylr,'r', linewidth=5)\n",
        "plt.xlabel('x')\n",
        "plt.ylabel('y')\n",
        "plt.axis([0, 0.5, 0, 2])"
      ],
      "metadata": {
        "colab": {
          "base_uri": "https://localhost:8080/",
          "height": 300
        },
        "id": "wbjsPY_sWUwN",
        "outputId": "ba7c30fe-f3c5-4df8-942a-8da25c36746c"
      },
      "execution_count": 229,
      "outputs": [
        {
          "output_type": "execute_result",
          "data": {
            "text/plain": [
              "(0.0, 0.5, 0.0, 2.0)"
            ]
          },
          "metadata": {},
          "execution_count": 229
        },
        {
          "output_type": "display_data",
          "data": {
            "text/plain": [
              "<Figure size 432x288 with 1 Axes>"
            ],
            "image/png": "[encoded data removed]"
          },
          "metadata": {
            "needs_background": "light"
          }
        }
      ]
    },
    {
      "cell_type": "markdown",
      "source": [
        "*Figure 2.2. The difference between the blue crosses and the red line at each data point, $x_i$, corresponds to the term $(\\theta_0 + \\theta_1 x_i)-y_i$.*"
      ],
      "metadata": {
        "id": "uJkE7K_gY5KQ"
      }
    },
    {
      "cell_type": "markdown",
      "source": [
        "Let's also display the first few data points by assigning the datasets to a table."
      ],
      "metadata": {
        "id": "lcQU8wiDZd0_"
      }
    },
    {
      "cell_type": "code",
      "source": [
        "from tabulate import tabulate\n",
        "\n",
        "T = [[x,y]]\n",
        "print(tabulate(T,headers=['X Data','Y Data']))"
      ],
      "metadata": {
        "colab": {
          "base_uri": "https://localhost:8080/"
        },
        "id": "mYGMp0c8ZCKh",
        "outputId": "89527566-3fbb-4be0-f81f-1831227e1e93"
      },
      "execution_count": 230,
      "outputs": [
        {
          "output_type": "stream",
          "name": "stdout",
          "text": [
            "X Data                                                              Y Data\n",
            "------------------------------------------------------------------  ------------------------------------------------------------------------\n",
            "[0.         0.05050505 0.1010101  0.15151515 0.2020202  0.25252525  [ 0.93802221  0.83392839  1.1063297   0.5083411   1.36220339  1.48933181\n",
            " 0.3030303  0.35353535 0.4040404  0.45454545 0.50505051 0.55555556    1.21250399  0.97890659  1.07695781  1.48968565  1.30057936  1.75188381\n",
            " 0.60606061 0.65656566 0.70707071 0.75757576 0.80808081 0.85858586    1.83509986  1.95866342  1.82405493  2.22064556  2.60177803  2.38099689\n",
            " 0.90909091 0.95959596 1.01010101 1.06060606 1.11111111 1.16161616    1.87433003  2.91117411  2.99679933  2.30361597  2.24342961  3.02033114\n",
            " 1.21212121 1.26262626 1.31313131 1.36363636 1.41414141 1.46464646    3.1849691   3.40474078  3.00891004  3.66953013  3.58097261  3.50758253\n",
            " 1.51515152 1.56565657 1.61616162 1.66666667 1.71717172 1.76767677    3.64100913  4.06135119  3.27107759  4.27728414  3.70329478  4.11221464\n",
            " 1.81818182 1.86868687 1.91919192 1.96969697 2.02020202 2.07070707    3.86078469  4.53683136  4.56937995  4.52385246  4.4477956   4.784348\n",
            " 2.12121212 2.17171717 2.22222222 2.27272727 2.32323232 2.37373737    4.8130474   4.83396343  5.43105968  4.64523409  4.93206581  5.38973492\n",
            " 2.42424242 2.47474747 2.52525253 2.57575758 2.62626263 2.67676768    4.86825942  5.9379463   5.26310644  5.51677128  5.39266809  5.99121669\n",
            " 2.72727273 2.77777778 2.82828283 2.87878788 2.92929293 2.97979798    5.51566866  5.55822151  5.91412495  5.92297989  5.95976366  6.01570185\n",
            " 3.03030303 3.08080808 3.13131313 3.18181818 3.23232323 3.28282828    6.27432728  6.95380388  7.00067848  7.17826649  6.85348396  6.58964986\n",
            " 3.33333333 3.38383838 3.43434343 3.48484848 3.53535354 3.58585859    7.65923956  6.78922067  7.73114112  7.60545509  7.56923419  7.49904128\n",
            " 3.63636364 3.68686869 3.73737374 3.78787879 3.83838384 3.88888889    7.67008386  7.84862728  8.3849125   7.87494212  8.62447371  8.64812493\n",
            " 3.93939394 3.98989899 4.04040404 4.09090909 4.14141414 4.19191919    8.33923029  8.39549111  8.35843324  9.10478639  8.55773523  9.2118122\n",
            " 4.24242424 4.29292929 4.34343434 4.39393939 4.44444444 4.49494949    9.16579554  8.97717517  8.92043583  8.83458933  9.47842309  9.74784716\n",
            " 4.54545455 4.5959596  4.64646465 4.6969697  4.74747475 4.7979798     9.09787235  9.29036922  9.63515626  9.78094871 10.34483459 10.18537463\n",
            " 4.84848485 4.8989899  4.94949495 5.        ]                         9.77370734 10.5505035  10.1296205  10.90621528]\n"
          ]
        }
      ]
    },
    {
      "cell_type": "markdown",
      "source": [
        "Let's try to understand what is happening here and what it means to our data when we minimize one of these parameters. Let's set the y-intercept to $\\theta_0=0.5$ and then vary the slope of the line, $\\theta_1$. While we vary the slope, we take a look at the cost function.<br>\n",
        "Watch this video and try to figure out what the value of $\\theta_1$ is that minimizes the cost function. The function *costfunction_2D()* is defined at the end of this script and solves for the costfunction. To plot the result, we defined the plot_costfunction_2D() located at the end of this script. Here the y-intercept is fixed and the slope is varied. So, the red line is fixed at one end and just sweeps over an area on the graph eventually passing through all the data points neatly, which corresponds to when the cost function has a minimum value."
      ],
      "metadata": {
        "id": "S__6SubmceT4"
      }
    },
    {
      "cell_type": "code",
      "source": [
        "theta0 = np.array([0.5])\n",
        "theta1 = np.arange(0,4,0.1)\n",
        "time = 0.2\n",
        "\n",
        "J = costfunction_2D(theta0,theta1)\n",
        "plot_costfunction_2D(theta0,theta1,J,time)\n",
        "\n",
        "# fig,ax = plt.subplots(1,2,figsize=(8,8))\n",
        "# ph0, = ax[0].plot(x,ylr,'r')\n",
        "# ph1, = ax[1].plot(theta1,J[0,:],'bx')\n",
        "\n",
        "# def animate(i):\n",
        "#   ylr = addrandomfluctuations(x,theta1[:i],theta0,0)\n",
        "#   ph0.set_data(x, ylr)\n",
        "#   ph1.set_data(theta1[:i],J[0,:i])\n",
        "#   return [ph0,ph1]\n",
        "\n",
        "# ani = animation.FuncAnimation(fig, animate, interval=1000)\n",
        "# plt.show()\n",
        "\n",
        "# ani.save('CostFunction.mp4', writer = 'ffmpeg', fps = 30)"
      ],
      "metadata": {
        "id": "2wkSvgCxbibk"
      },
      "execution_count": null,
      "outputs": []
    },
    {
      "cell_type": "markdown",
      "source": [
        "*Video 2.1. As the value of $\\theta_1$ varies from 0 to 4, we see the red line slowly becoming closer to the blue data points until it fits nicely. This corresponds to the minimum value of the cost function.*"
      ],
      "metadata": {
        "id": "VaPaQ2UL4Z_g"
      }
    },
    {
      "cell_type": "markdown",
      "source": [
        "We can observe the same thing if we set the slope $\\theta_1=2$ and vary the y-intercept, $\\theta_0$.<br>\n",
        "Watch this video and try to figure out what the value of $\\theta_1$ is that minimizes the cost function. Here the slope is fixed and the y-intercept is varied. So, the red line slowly rises from a low y-intercept value to a high y-intercept value. At some value $\\theta_0$, the red line passes through all the points neatly, which corresponds to when the cost function has a minimum value."
      ],
      "metadata": {
        "id": "zFFrc7VY4g4Z"
      }
    },
    {
      "cell_type": "code",
      "source": [
        "theta0 = np.arange(-2,2,0.1)\n",
        "theta1 = np.array([2])\n",
        "time = 0.2\n",
        "\n",
        "J = costfunction_2D(theta0,theta1)\n",
        "plot_costfunction_2D(theta0,theta1,J,time)"
      ],
      "metadata": {
        "id": "nEnq5Y644vzm"
      },
      "execution_count": null,
      "outputs": []
    },
    {
      "cell_type": "markdown",
      "source": [
        "*Video 2.2. As the value of $\\theta_0$ varies from -2 to 2, we see the red line slowly becoming closer to the blue data points until it fits nicely. This corresponds to the minimum value of the cost function.*"
      ],
      "metadata": {
        "id": "BNomVpBl5aGD"
      }
    },
    {
      "cell_type": "markdown",
      "source": [],
      "metadata": {
        "id": "o0kmkzGj8xN3"
      }
    },
    {
      "cell_type": "markdown",
      "source": [
        "#Functions to be used for this chapter"
      ],
      "metadata": {
        "id": "E-QMG7oCdEBO"
      }
    },
    {
      "cell_type": "markdown",
      "source": [
        "Let's define all the functions that we are going to use."
      ],
      "metadata": {
        "id": "dt0GtSp7c_k1"
      }
    },
    {
      "cell_type": "code",
      "source": [
        "def addrandomfluctuations(x,m,b,fluctuationsize):\n",
        "  import random\n",
        "\n",
        "  yrand = np.zeros(len(x))\n",
        "  for i in range(len(x)):\n",
        "    yrand[i] = m*x[i] + b + fluctuationsize*(random.random()-0.5)\n",
        "  \n",
        "  return yrand"
      ],
      "metadata": {
        "id": "TFZsxBfGc-OZ"
      },
      "execution_count": 226,
      "outputs": []
    },
    {
      "cell_type": "code",
      "source": [
        "def costfunction_2D(th0,th1):\n",
        "  n = len(y)\n",
        "\n",
        "  J = np.zeros([len(theta0),len(theta1)])\n",
        "  for i in range(len(theta0)):\n",
        "    for j in range(len(theta1)):\n",
        "      J[i,j] = (1/(2*n))*np.sum(np.power((theta0[i] + theta1[j]*x - y),2))\n",
        "\n",
        "  return J"
      ],
      "metadata": {
        "id": "siGLKoD4dM1P"
      },
      "execution_count": 208,
      "outputs": []
    },
    {
      "cell_type": "code",
      "source": [
        "def plot_costfunction_2D(th0,th1,J,time):\n",
        "\n",
        "  for i in range(len(th0)):\n",
        "    for j in range(len(th1)):\n",
        "      fig, ax = plt.subplots(1,2,figsize=(16,8))\n",
        "      plt.axis([0,5,0,12])\n",
        "      ylr = addrandomfluctuations(x,th1[j],th0[i],0)\n",
        "      ax[0].plot(x,ylr,'r', linewidth=5)\n",
        "      ax[0].plot(x,y,'bx', markersize=10,linewidth=2)\n",
        "      plt.xlabel('x')\n",
        "      plt.ylabel('y')\n",
        "\n",
        "      if th1.shape[0] == 1:\n",
        "        ax[1].plot(th0[:i],J[:i,j],'bx', markersize=10,linewidth=2)\n",
        "        plt.xlabel(r'$\\theta_0$')\n",
        "        plt.ylabel('Cost Function, J')\n",
        "        plt.axis([-2,2,0,4])\n",
        "      else:\n",
        "        ax[1].plot(th1[:j],J[i,:j],'bx', markersize=10,linewidth=2)\n",
        "        plt.xlabel(r'$\\theta_1$')\n",
        "        plt.ylabel('Cost Function, J')\n",
        "        plt.axis([0,4,0,20])\n",
        "\n",
        "      plt.show()\n",
        "      plt.pause(time)\n"
      ],
      "metadata": {
        "id": "gUoXP0v16eV_"
      },
      "execution_count": 224,
      "outputs": []
    }
  ]
}