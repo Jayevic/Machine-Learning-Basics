{
  "nbformat": 4,
  "nbformat_minor": 0,
  "metadata": {
    "colab": {
      "provenance": [],
      "authorship_tag": "ABX9TyMsLRhMbsB2mAYBxvMS4IpT",
      "include_colab_link": true
    },
    "kernelspec": {
      "name": "python3",
      "display_name": "Python 3"
    },
    "language_info": {
      "name": "python"
    }
  },
  "cells": [
    {
      "cell_type": "markdown",
      "metadata": {
        "id": "view-in-github",
        "colab_type": "text"
      },
      "source": [
        "<a href=\"https://colab.research.google.com/github/iaagulo/Machine-Learning-Basics/blob/main/Ch01_Intro_to_Machine_Learning.ipynb\" target=\"_parent\"><img src=\"https://colab.research.google.com/assets/colab-badge.svg\" alt=\"Open In Colab\"/></a>"
      ]
    },
    {
      "cell_type": "markdown",
      "source": [
        "#1.0 Human vs Machine Learning\n",
        "Let's take a closer look at the difference between how we learn as humans and how machines learn.\n",
        "Consider this relation between two variables, $x$ and $y$."
      ],
      "metadata": {
        "id": "JS92MCoYsbV1"
      }
    },
    {
      "cell_type": "code",
      "source": [
        "import numpy as np\n",
        "import matplotlib.pyplot as plt\n",
        "\n",
        "def randomfluctuations(x,m,b,fluctuationsize):\n",
        "  import random\n",
        "\n",
        "  yrand = np.zeros(len(x))\n",
        "  for i in range(len(x)):\n",
        "    yrand[i] = m*x[i] + b + fluctuationsize*(random.random()-0.5)\n",
        "  \n",
        "  return yrand\n",
        "\n",
        "x = np.linspace(0,5,100)\n",
        "y = randomfluctuations(x,2,0.5,0.4)\n",
        "plt.plot(x,y,'bx')\n",
        "plt.xlabel('x')\n",
        "plt.ylabel('y')\n",
        "plt.grid()"
      ],
      "metadata": {
        "colab": {
          "base_uri": "https://localhost:8080/",
          "height": 279
        },
        "id": "xUaGoEB_sscd",
        "outputId": "875e1464-0d9d-48a4-d5e1-ec3a929fef2e"
      },
      "execution_count": 2,
      "outputs": [
        {
          "output_type": "display_data",
          "data": {
            "text/plain": [
              "<Figure size 432x288 with 1 Axes>"
            ],
            "image/png": "[encoded data removed]"
          },
          "metadata": {
            "needs_background": "light"
          }
        }
      ]
    },
    {
      "cell_type": "markdown",
      "source": [
        "*Figure 1.1. A data set that forms a straight line. But the computer doesn't know it's a straight line.*"
      ],
      "metadata": {
        "id": "x2kO4jsQvdsf"
      }
    },
    {
      "cell_type": "markdown",
      "source": [
        "##1.1 How we determine the best fit line"
      ],
      "metadata": {
        "id": "GSCMBlGuZ3DJ"
      }
    },
    {
      "cell_type": "markdown",
      "source": [
        "We know instinctively that this data forms a straight line, even though there's a little bit of randomness in the line. We know that we can plot a straight line that will represent this data. The straight line that fits this data set is given by $y=mx+b$, where $m$ is the slope and $b$ is the y-intercept. In this example, the slope is 2 and the y-intercept is 0.5.<br>\n",
        "We can get the slope and the y-intercept using three methods. The first is we get a ruler and we draw a line that roughly passes through these points. We see that it intersects the y-axis at some point and we call that point our y-intercept. Then, we count the number of grid lines that represents the rise along the y-axis and the run along the x-axis to estimate the slope. The second method is we estimate the error between these data points and the expected value, represented by the equation of a line, and we minimize that error by doing some calculus. Minimizing gives us the slope and the y-intercept. We know this because these are the rules that mathematics taught us.<br>\n",
        "Of course, the third method is to use the tools available to us in Python."
      ],
      "metadata": {
        "id": "jQFHASSTvoLj"
      }
    },
    {
      "cell_type": "code",
      "source": [
        "from sklearn.linear_model import LinearRegression\n",
        "\n",
        "lr = LinearRegression()\n",
        "X = x.reshape(-1,1)  # data needs to be reshaped since the data is a single feature\n",
        "Y = y.reshape(-1,1)\n",
        "lr.fit(X,Y)\n",
        "ypred = lr.predict(X)\n",
        "plt.plot(x,y,'bx')\n",
        "plt.plot(x,ypred,'r')\n",
        "plt.xlabel('x')\n",
        "plt.ylabel('y')\n",
        "plt.grid()"
      ],
      "metadata": {
        "colab": {
          "base_uri": "https://localhost:8080/",
          "height": 279
        },
        "id": "puOc-U888bP1",
        "outputId": "f0125972-944d-4866-970c-5d010f29b5fc"
      },
      "execution_count": 3,
      "outputs": [
        {
          "output_type": "display_data",
          "data": {
            "text/plain": [
              "<Figure size 432x288 with 1 Axes>"
            ],
            "image/png": "[encoded data removed]"
          },
          "metadata": {
            "needs_background": "light"
          }
        }
      ]
    },
    {
      "cell_type": "markdown",
      "source": [
        "*Figure 1.2. Predicted best fit line using the linear regression algorithm of MATLAB.*"
      ],
      "metadata": {
        "id": "Cv7Rh-daA5FB"
      }
    },
    {
      "cell_type": "markdown",
      "source": [
        "##1.2 How a computer determines the best fit line"
      ],
      "metadata": {
        "id": "erTDRccbaCFU"
      }
    },
    {
      "cell_type": "markdown",
      "source": [
        "A computer doesn't know any of these rules. What the computer does after it gets the data is that it'll make several guesses for the slope and the y-intercept until the error becomes really small. In each guess, it rewrites some parameters that it uses so that the error becomes smaller and smaller. When the error is small enough, then the computer returns the final value of the slope and the y-intercept to represent the line. After all of that, the computer still doesn't know what the mathematical rules are."
      ],
      "metadata": {
        "id": "NBq-nIlj8bof"
      }
    },
    {
      "cell_type": "markdown",
      "source": [
        "This short code is a machine learning model that will solve for the best fit line of the given data $x$ and $y$. "
      ],
      "metadata": {
        "id": "eDDXzk0HxuVX"
      }
    },
    {
      "cell_type": "code",
      "source": [
        "import tensorflow as tf\n",
        "from tensorflow import keras\n",
        "\n",
        "print(tf.__version__)\n",
        "\n",
        "model_layer = keras.layers.Dense(units=1, input_shape=[1])\n",
        "model = tf.keras.Sequential([model_layer])\n",
        "model.compile(optimizer = 'sgd', loss = 'mean_squared_error')\n",
        "history = model.fit(x,y, epochs = 100, verbose = 0)\n",
        "plt.plot(history.history[\"loss\"])\n",
        "plt.title(\"model loss\")\n",
        "plt.xlabel(\"epoch\")\n",
        "plt.ylabel(\"loss\")\n",
        "plt.legend([\"loss\"],loc=\"upper right\")\n",
        "plt.show()"
      ],
      "metadata": {
        "colab": {
          "base_uri": "https://localhost:8080/",
          "height": 312
        },
        "id": "gXmY1UIEv0LZ",
        "outputId": "553ec0ea-2772-4532-df4e-fccfd2e6037d"
      },
      "execution_count": 4,
      "outputs": [
        {
          "output_type": "stream",
          "name": "stdout",
          "text": [
            "2.9.2\n"
          ]
        },
        {
          "output_type": "display_data",
          "data": {
            "text/plain": [
              "<Figure size 432x288 with 1 Axes>"
            ],
            "image/png": "[encoded data removed]"
          },
          "metadata": {
            "needs_background": "light"
          }
        }
      ]
    },
    {
      "cell_type": "markdown",
      "source": [
        "Figure 1.3. Training progress of the model.<br><br>\n",
        "As you can see from the code, it does not directly give out a numerical value for the slope and the y-intercept. It does, however, give out the correct value to a certain margin of error of $y$ for a given value of $x$ based on the data."
      ],
      "metadata": {
        "id": "tLIOQ8LIyFUx"
      }
    },
    {
      "cell_type": "code",
      "source": [
        "xtest = 3\n",
        "ytest = model.predict([xtest])\n",
        "print(ytest)"
      ],
      "metadata": {
        "colab": {
          "base_uri": "https://localhost:8080/"
        },
        "id": "C-OvJcuGys1_",
        "outputId": "3a350bb5-57f7-4a75-b9f3-b0e72e9cbbca"
      },
      "execution_count": 6,
      "outputs": [
        {
          "output_type": "stream",
          "name": "stdout",
          "text": [
            "1/1 [==============================] - 0s 157ms/step\n",
            "[[6.481914]]\n"
          ]
        }
      ]
    },
    {
      "cell_type": "markdown",
      "source": [
        "##1.3 Comparing human vs machine learning"
      ],
      "metadata": {
        "id": "c3elpC3VaL6l"
      }
    },
    {
      "cell_type": "code",
      "source": [
        "yactual = 2*xtest + 0.5\n",
        "print(yactual)\n",
        "\n",
        "error = 100*abs(yactual - ytest)/yactual\n",
        "print('The error is',error,'%.')"
      ],
      "metadata": {
        "colab": {
          "base_uri": "https://localhost:8080/"
        },
        "id": "8f_lnntpzZ6f",
        "outputId": "607ffcaf-dcf6-4e2c-a5ae-fc83e4fd032d"
      },
      "execution_count": 7,
      "outputs": [
        {
          "output_type": "stream",
          "name": "stdout",
          "text": [
            "6.5\n",
            "The error is [[0.27824548]] %.\n"
          ]
        }
      ]
    },
    {
      "cell_type": "markdown",
      "source": [
        "Comparing with the actual value of 6.5, we have an error that is about 0.28%.<br>\n",
        "If we use the plot the predicted data set against the given data set, we have this result."
      ],
      "metadata": {
        "id": "z6zeDZQRzW6S"
      }
    },
    {
      "cell_type": "code",
      "source": [
        "ypred = model.predict([x])\n",
        "plt.plot(x,y,'bx')\n",
        "plt.plot(x,ypred,'r')\n",
        "plt.xlabel('x')\n",
        "plt.ylabel('y')\n",
        "plt.grid()"
      ],
      "metadata": {
        "colab": {
          "base_uri": "https://localhost:8080/",
          "height": 296
        },
        "id": "7sXCZJRpA-n2",
        "outputId": "d6b78995-cdae-40ee-dbe1-4345a0faf137"
      },
      "execution_count": 8,
      "outputs": [
        {
          "output_type": "stream",
          "name": "stdout",
          "text": [
            "4/4 [==============================] - 0s 3ms/step\n"
          ]
        },
        {
          "output_type": "display_data",
          "data": {
            "text/plain": [
              "<Figure size 432x288 with 1 Axes>"
            ],
            "image/png": "[encoded data removed]"
          },
          "metadata": {
            "needs_background": "light"
          }
        }
      ]
    },
    {
      "cell_type": "markdown",
      "source": [
        "Figure 1.4. Predicted best fit line by the machine learning model."
      ],
      "metadata": {
        "id": "vwkOQJ74BBf7"
      }
    },
    {
      "cell_type": "markdown",
      "source": [
        "Why is there a deviation from the actual value? As you will soon learn, computers learn based on statistical techniques, which is why their guesses will not always be exact. To a computer, the value of 6.5 is the most probable result from the given data."
      ],
      "metadata": {
        "id": "J23M3mxe3aka"
      }
    }
  ]
}